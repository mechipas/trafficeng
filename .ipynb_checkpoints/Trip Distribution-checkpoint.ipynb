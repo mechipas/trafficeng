{
 "cells": [
  {
   "cell_type": "markdown",
   "metadata": {},
   "source": [
    "# Trip Distribution\n",
    "Version 0.2\n",
    "\n",
    "Up until now we created a network graph comprising different attributes and determined the shortest paths for this unloaded network giving an idea about the supply side for a simple transport model, for the demand side some basic data was used to estimate the productions and attractions of every zone in the network. As a result we have a graph consisting of nodes and centroids with edges connecting some nodes, also every centroid has the estimated productions and attractions added to it as attributes. Additionally, a geopandas dataframe contains all the zonal information in a very compact format.\n"
   ]
  },
  {
   "cell_type": "code",
   "execution_count": 2,
   "metadata": {},
   "outputs": [],
   "source": [
    "# Import packages\n",
    "import numpy as np\n",
    "import networkx as nx\n",
    "from stapy.network_data import *\n",
    "from stapy.visualization import *\n",
    "import matplotlib.pyplot as plt\n",
    "import matplotlib.colors as mcolors\n",
    "from bokeh.layouts import row\n",
    "import pandas as pd\n",
    "import geopandas as gpd\n",
    "import pickle\n",
    "\n",
    "from ipfn import ipfn # Furness process\n",
    "\n",
    "%matplotlib inline"
   ]
  },
  {
   "cell_type": "code",
   "execution_count": 3,
   "metadata": {},
   "outputs": [],
   "source": [
    "# Pickle files\n",
    "with open('graph_tg','rb') as a:\n",
    "    gr=pickle.load(a)\n",
    "with open('zones_tg', 'rb') as a:\n",
    "    zones=pickle.load(a)"
   ]
  },
  {
   "cell_type": "code",
   "execution_count": 7,
   "metadata": {},
   "outputs": [
    {
     "data": {
      "text/plain": [
       "1.0019612669272313"
      ]
     },
     "execution_count": 7,
     "metadata": {},
     "output_type": "execute_result"
    }
   ],
   "source": [
    "# Balancing is needed\n",
    "zones.P.sum()/zones.A.sum()"
   ]
  },
  {
   "cell_type": "code",
   "execution_count": 4,
   "metadata": {},
   "outputs": [],
   "source": [
    "def construct_skim(graph, number_of_centroids, weight='travel_time'):\n",
    "    skm = np.zeros((number_of_centroids, number_of_centroids))\n",
    "    centroids = [e for e in graph.nodes if graph.nodes[e]['centroid']]\n",
    "    for i, v in enumerate(centroids):\n",
    "        skm[i][i]=9999 # No intrazonal traffic\n",
    "        for j, w in enumerate(centroids):\n",
    "            if not v == w:\n",
    "                p = nx.shortest_path(graph, source=v, target=w, weight=weight) # Travel time shortest path (static)\n",
    "                q = [(i, j) for i, j in zip(p, p[1:])]\n",
    "                cost = sum([graph.edges[e][weight] for e in q])\n",
    "                skm[i][j]=cost\n",
    "    return skm"
   ]
  },
  {
   "cell_type": "code",
   "execution_count": 5,
   "metadata": {},
   "outputs": [],
   "source": [
    "# Distribution function\n",
    "\n",
    "# - exponential\n",
    "def dist_exponential(a, b, m):\n",
    "    return a*np.exp(-b*m)\n",
    "\n",
    "# - lognormal\n",
    "## add later"
   ]
  },
  {
   "cell_type": "code",
   "execution_count": 6,
   "metadata": {},
   "outputs": [],
   "source": [
    "# Reproduce example from lecture notes Traffic Engineering (p78-)\n",
    "#PA\n",
    "#df = pd.DataFrame({'P':[400,460,400,702], 'A':[260,400,500,802]})\n",
    "#skm = np.array([[3,11,18,22],[12,3,13,19],[15.5,13,5,7],[24,18,8,5]])"
   ]
  },
  {
   "cell_type": "code",
   "execution_count": 7,
   "metadata": {},
   "outputs": [],
   "source": [
    "def trip_distribution(df_pa, skim, *args, function='exponential'):\n",
    "    if function == \"exponential\":\n",
    "        skm2 = dist_exponential(*args, skim) # Distribution function, choose parameters\n",
    "    prod = df_pa.P\n",
    "    attr = df_pa.A\n",
    "    aggregates = [prod, attr]\n",
    "    dimensions = [[0],[1]]\n",
    "    IPF = ipfn.ipfn(skm2, aggregates, dimensions) # Furness iteration process\n",
    "    trips = IPF.iteration()\n",
    "    od = pd.DataFrame(trips)\n",
    "    return od"
   ]
  },
  {
   "cell_type": "code",
   "execution_count": 8,
   "metadata": {},
   "outputs": [],
   "source": [
    "skm = construct_skim(g)\n",
    "od = trip_distribution(df, skm, 1, 0.1)"
   ]
  },
  {
   "cell_type": "code",
   "execution_count": 9,
   "metadata": {},
   "outputs": [],
   "source": [
    "# Desire lines (just to show how trips are distributed)\n",
    "# Not a lot of added value theoretically\n",
    "def draw_desire_lines(od, graph, centroid, cmap=plt.cm.viridis):\n",
    "    centroids = [e for e in graph.nodes if graph.nodes[e]['centroid']]\n",
    "    od.index = centroids\n",
    "    od.columns = centroids\n",
    "    pos = nx.get_node_attributes(graph, 'coord')\n",
    "    d_lines = nx.DiGraph()\n",
    "    d_lines.add_nodes_from(graph)\n",
    "    d_lines.remove_nodes_from([i for i in graph.nodes if not graph.nodes[i]['centroid']]) # Only keep centroid nodes\n",
    "    d_lines.add_edges_from([(centroid,i) for i in centroids])\n",
    "    nx.draw_networkx(graph, pos=pos, nodelist=[e for e,v in nx.get_node_attributes(graph,'centroid').items() if not v])\n",
    "    nx.draw_networkx(graph, pos=pos, nodelist=[e for e,v in nx.get_node_attributes(graph,'centroid').items() if v], node_color='r')\n",
    "    nx.draw_networkx_edges(d_lines, pos=pos, width=od.loc[centroid].values/max(od.loc[centroid])*10, edge_color=od.loc[centroid].values, edge_cmap=cmap)\n",
    "    plt.show()\n"
   ]
  },
  {
   "cell_type": "code",
   "execution_count": 10,
   "metadata": {},
   "outputs": [
    {
     "data": {
      "image/png": "[encoded data removed]",
      "text/plain": [
       "<Figure size 432x288 with 1 Axes>"
      ]
     },
     "metadata": {},
     "output_type": "display_data"
    }
   ],
   "source": [
    "draw_desire_lines(od, g, 'c4')"
   ]
  },
  {
   "cell_type": "code",
   "execution_count": 11,
   "metadata": {},
   "outputs": [
    {
     "data": {
      "text/plain": [
       "array([[9999.,   12.,   22.,   22.,   32.,   32.,   32.,   42.,   52.],\n",
       "       [  12., 9999.,   12.,   32.,   22.,   22.,   42.,   32.,   42.],\n",
       "       [  22.,   12., 9999.,   42.,   32.,   12.,   52.,   42.,   32.],\n",
       "       [  22.,   32.,   42., 9999.,   12.,   32.,   12.,   22.,   32.],\n",
       "       [  32.,   22.,   32.,   12., 9999.,   22.,   22.,   12.,   22.],\n",
       "       [  32.,   22.,   12.,   32.,   22., 9999.,   42.,   32.,   22.],\n",
       "       [  32.,   42.,   52.,   12.,   22.,   42., 9999.,   12.,   22.],\n",
       "       [  42.,   32.,   42.,   22.,   12.,   32.,   12., 9999.,   12.],\n",
       "       [  52.,   42.,   32.,   32.,   22.,   22.,   22.,   12., 9999.]])"
      ]
     },
     "execution_count": 11,
     "metadata": {},
     "output_type": "execute_result"
    }
   ],
   "source": [
    "skm"
   ]
  },
  {
   "cell_type": "code",
   "execution_count": 12,
   "metadata": {},
   "outputs": [
    {
     "data": {
      "text/html": [
       "<div>\n",
       "<style scoped>\n",
       "    .dataframe tbody tr th:only-of-type {\n",
       "        vertical-align: middle;\n",
       "    }\n",
       "\n",
       "    .dataframe tbody tr th {\n",
       "        vertical-align: top;\n",
       "    }\n",
       "\n",
       "    .dataframe thead th {\n",
       "        text-align: right;\n",
       "    }\n",
       "</style>\n",
       "<table border=\"1\" class=\"dataframe\">\n",
       "  <thead>\n",
       "    <tr style=\"text-align: right;\">\n",
       "      <th></th>\n",
       "      <th>c0</th>\n",
       "      <th>c1</th>\n",
       "      <th>c2</th>\n",
       "      <th>c3</th>\n",
       "      <th>c4</th>\n",
       "      <th>c5</th>\n",
       "      <th>c6</th>\n",
       "      <th>c7</th>\n",
       "      <th>c8</th>\n",
       "    </tr>\n",
       "  </thead>\n",
       "  <tbody>\n",
       "    <tr>\n",
       "      <th>c0</th>\n",
       "      <td>0.000000</td>\n",
       "      <td>27.281226</td>\n",
       "      <td>1.150712</td>\n",
       "      <td>2.829468</td>\n",
       "      <td>3.373878</td>\n",
       "      <td>6.887149</td>\n",
       "      <td>0.656878</td>\n",
       "      <td>1.026508</td>\n",
       "      <td>0.794454</td>\n",
       "    </tr>\n",
       "    <tr>\n",
       "      <th>c1</th>\n",
       "      <td>26.108201</td>\n",
       "      <td>0.000000</td>\n",
       "      <td>3.181629</td>\n",
       "      <td>1.058762</td>\n",
       "      <td>9.328506</td>\n",
       "      <td>19.042424</td>\n",
       "      <td>0.245798</td>\n",
       "      <td>2.838214</td>\n",
       "      <td>2.196604</td>\n",
       "    </tr>\n",
       "    <tr>\n",
       "      <th>c2</th>\n",
       "      <td>6.432374</td>\n",
       "      <td>18.584075</td>\n",
       "      <td>0.000000</td>\n",
       "      <td>0.260851</td>\n",
       "      <td>2.298299</td>\n",
       "      <td>34.666143</td>\n",
       "      <td>0.060558</td>\n",
       "      <td>0.699261</td>\n",
       "      <td>3.998849</td>\n",
       "    </tr>\n",
       "    <tr>\n",
       "      <th>c3</th>\n",
       "      <td>12.358637</td>\n",
       "      <td>4.832271</td>\n",
       "      <td>0.203823</td>\n",
       "      <td>0.000000</td>\n",
       "      <td>32.628320</td>\n",
       "      <td>9.013965</td>\n",
       "      <td>6.352577</td>\n",
       "      <td>9.927221</td>\n",
       "      <td>7.683062</td>\n",
       "    </tr>\n",
       "    <tr>\n",
       "      <th>c4</th>\n",
       "      <td>1.588884</td>\n",
       "      <td>4.590520</td>\n",
       "      <td>0.193626</td>\n",
       "      <td>3.517966</td>\n",
       "      <td>0.000000</td>\n",
       "      <td>8.563010</td>\n",
       "      <td>0.816717</td>\n",
       "      <td>9.430577</td>\n",
       "      <td>7.298690</td>\n",
       "    </tr>\n",
       "    <tr>\n",
       "      <th>c5</th>\n",
       "      <td>5.304714</td>\n",
       "      <td>15.326100</td>\n",
       "      <td>4.776651</td>\n",
       "      <td>1.589544</td>\n",
       "      <td>14.005098</td>\n",
       "      <td>0.000000</td>\n",
       "      <td>0.369022</td>\n",
       "      <td>4.261074</td>\n",
       "      <td>24.367710</td>\n",
       "    </tr>\n",
       "    <tr>\n",
       "      <th>c6</th>\n",
       "      <td>5.022799</td>\n",
       "      <td>1.963932</td>\n",
       "      <td>0.082838</td>\n",
       "      <td>11.121037</td>\n",
       "      <td>13.260806</td>\n",
       "      <td>3.663457</td>\n",
       "      <td>0.000000</td>\n",
       "      <td>29.812053</td>\n",
       "      <td>23.072705</td>\n",
       "    </tr>\n",
       "    <tr>\n",
       "      <th>c7</th>\n",
       "      <td>0.842250</td>\n",
       "      <td>2.433384</td>\n",
       "      <td>0.102639</td>\n",
       "      <td>1.864835</td>\n",
       "      <td>16.430624</td>\n",
       "      <td>4.539157</td>\n",
       "      <td>3.198963</td>\n",
       "      <td>0.000000</td>\n",
       "      <td>28.587925</td>\n",
       "    </tr>\n",
       "    <tr>\n",
       "      <th>c8</th>\n",
       "      <td>0.342140</td>\n",
       "      <td>0.988492</td>\n",
       "      <td>0.308081</td>\n",
       "      <td>0.757536</td>\n",
       "      <td>6.674469</td>\n",
       "      <td>13.624696</td>\n",
       "      <td>1.299487</td>\n",
       "      <td>15.005092</td>\n",
       "      <td>0.000000</td>\n",
       "    </tr>\n",
       "  </tbody>\n",
       "</table>\n",
       "</div>"
      ],
      "text/plain": [
       "           c0         c1        c2         c3         c4         c5        c6  \\\n",
       "c0   0.000000  27.281226  1.150712   2.829468   3.373878   6.887149  0.656878   \n",
       "c1  26.108201   0.000000  3.181629   1.058762   9.328506  19.042424  0.245798   \n",
       "c2   6.432374  18.584075  0.000000   0.260851   2.298299  34.666143  0.060558   \n",
       "c3  12.358637   4.832271  0.203823   0.000000  32.628320   9.013965  6.352577   \n",
       "c4   1.588884   4.590520  0.193626   3.517966   0.000000   8.563010  0.816717   \n",
       "c5   5.304714  15.326100  4.776651   1.589544  14.005098   0.000000  0.369022   \n",
       "c6   5.022799   1.963932  0.082838  11.121037  13.260806   3.663457  0.000000   \n",
       "c7   0.842250   2.433384  0.102639   1.864835  16.430624   4.539157  3.198963   \n",
       "c8   0.342140   0.988492  0.308081   0.757536   6.674469  13.624696  1.299487   \n",
       "\n",
       "           c7         c8  \n",
       "c0   1.026508   0.794454  \n",
       "c1   2.838214   2.196604  \n",
       "c2   0.699261   3.998849  \n",
       "c3   9.927221   7.683062  \n",
       "c4   9.430577   7.298690  \n",
       "c5   4.261074  24.367710  \n",
       "c6  29.812053  23.072705  \n",
       "c7   0.000000  28.587925  \n",
       "c8  15.005092   0.000000  "
      ]
     },
     "execution_count": 12,
     "metadata": {},
     "output_type": "execute_result"
    }
   ],
   "source": [
    "od"
   ]
  },
  {
   "cell_type": "code",
   "execution_count": null,
   "metadata": {},
   "outputs": [],
   "source": []
  }
 ],
 "metadata": {
  "kernelspec": {
   "display_name": "stapy",
   "language": "python",
   "name": "stapy"
  },
  "language_info": {
   "codemirror_mode": {
    "name": "ipython",
    "version": 3
   },
   "file_extension": ".py",
   "mimetype": "text/x-python",
   "name": "python",
   "nbconvert_exporter": "python",
   "pygments_lexer": "ipython3",
   "version": "3.8.5"
  }
 },
 "nbformat": 4,
 "nbformat_minor": 4
}
