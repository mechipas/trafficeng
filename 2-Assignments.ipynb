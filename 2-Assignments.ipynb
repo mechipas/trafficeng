{
 "cells": [
  {
   "cell_type": "markdown",
   "metadata": {},
   "source": [
    "# 2. Different Traffic Assignments\n",
    "\n",
    "This notebook will focus on the different kind of assignments. (DUN, SUN, DUE and SUE)\n",
    "\n",
    "**Note** that you can easily run the whole notebook and can skip most questions. It is your responsibility to think, that is what you are required to do in this exercise session: think. And if you think hard enough, you will grasp all concepts better (and yes, also be better prepared for the exam).\n",
    "\n",
    "## Learning Objectives\n",
    "\n",
    "The learning objectives for this notebook are for you to first get familiar with how a network is modelled. What is given as an input, what kind of outputs are generated. Second, the difference between the four kind of assignments should become clear. (DUN, SUN, DUE and SUE)\n",
    "\n",
    "\n"
   ]
  },
  {
   "cell_type": "code",
   "execution_count": 4,
   "metadata": {
    "pycharm": {
     "is_executing": true
    }
   },
   "outputs": [],
   "source": [
    "# Import packages\n",
    "from numba import config\n",
    "config.DISABLE_JIT = 1\n",
    "from dyntapy.demand import parse_demand, generate_od_xy,get_centroid_grid_coords, add_centroids_to_graph\n",
    "from dyntapy.network_data import load_pickle, get_from_ox_and_save, relabel_graph, save_pickle\n",
    "from dyntapy.sta.assignment import StaticAssignment\n",
    "from dyntapy.visualization import show_demand, show_network\n",
    "from dyntapy.sta.assignment_methods import DUN, DUE, SUN, SUE\n",
    "import numpy as np\n",
    "from dyntapy.visualization import show_network, show_demand\n",
    "from dyntapy.settings import static_parameters, default_static_city"
   ]
  },
  {
   "cell_type": "markdown",
   "metadata": {},
   "source": [
    "## Network\n",
    "Load and plot the network we work with.\n",
    "Look at the demand, the freeflow costs etc."
   ]
  },
  {
   "cell_type": "code",
   "execution_count": null,
   "metadata": {},
   "outputs": [],
   "source": []
  },
  {
   "cell_type": "markdown",
   "metadata": {},
   "source": [
    "## Deterministic uncogested network loading (DUN)\n",
    "Given the free flow costs above, what are the shortest paths for each OD?\n",
    "Run the following code to check your results."
   ]
  },
  {
   "cell_type": "code",
   "execution_count": null,
   "metadata": {},
   "outputs": [],
   "source": []
  },
  {
   "cell_type": "markdown",
   "metadata": {},
   "source": [
    "## Deterministic User Equilibrium (DUE)\n",
    "Now that there is some flow on the network, what route whould you take from X to Y?\n",
    "Is this route currently being used? Why is that?\n",
    "\n",
    "Run the next code and look at the different paths that are being used.\n",
    "What is the cost of a path for an OD that is not used?\n",
    "Are there for some OD's more then one path that is being used, what are the costs of these paths?"
   ]
  },
  {
   "cell_type": "code",
   "execution_count": null,
   "metadata": {},
   "outputs": [],
   "source": []
  },
  {
   "cell_type": "markdown",
   "metadata": {},
   "source": [
    "## Stochastic uncogested network loading (SUN)\n",
    "What is the main difference between stochastic and deterministic?\n",
    "Why do we use stochastic?"
   ]
  },
  {
   "cell_type": "code",
   "execution_count": null,
   "metadata": {},
   "outputs": [],
   "source": []
  },
  {
   "cell_type": "markdown",
   "metadata": {},
   "source": [
    "## Stochastic User Equilibrium (SUE)\n",
    "Look for one OD-pair at the different paths that are being used and calculate their costs.\n",
    "What is the difference with DUE?"
   ]
  },
  {
   "cell_type": "code",
   "execution_count": null,
   "metadata": {},
   "outputs": [],
   "source": []
  }
 ],
 "metadata": {
  "kernelspec": {
   "display_name": "Python 3 (ipykernel)",
   "language": "python",
   "name": "python3"
  },
  "language_info": {
   "codemirror_mode": {
    "name": "ipython",
    "version": 3
   },
   "file_extension": ".py",
   "mimetype": "text/x-python",
   "name": "python",
   "nbconvert_exporter": "python",
   "pygments_lexer": "ipython3",
   "version": "3.9.7"
  }
 },
 "nbformat": 4,
 "nbformat_minor": 4
}
