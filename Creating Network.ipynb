{
 "cells": [
  {
   "cell_type": "markdown",
   "metadata": {},
   "source": [
    "# Creating Network\n",
    "In this notebokt a simple network is created with all the needed attributes specified for each link (and node).\n",
    "At the end of this part it should be clear how to:\n",
    "- set up a simple network of nodes and links\n",
    "- assign attributes to links and nodes\n",
    "- rightly connect the centroids to the network\n",
    "- calculate shortest paths between centroids in the network\n",
    "\n",
    "## Software\n",
    "\n",
    "We will use python packages to build grpahs and calculate networks. It is important to keep in mind that having a clear and compact data structure makes it easier to integrate it further to come to a full four-step model, meaning that it is important to automate repetitive process as mucha s possible and create an object comprising all information."
   ]
  },
  {
   "cell_type": "code",
   "execution_count": 118,
   "metadata": {},
   "outputs": [],
   "source": [
    "# Import packages\n",
    "import numpy as np\n",
    "import networkx as nx\n",
    "import hvplot.networkx as hvnx\n",
    "from stapy.network_data import create_cascetta_nw\n",
    "from stapy.visualization import *\n",
    "import matplotlib.pyplot as plt\n",
    "import matplotlib.colors as mcolors"
   ]
  },
  {
   "cell_type": "code",
   "execution_count": 87,
   "metadata": {},
   "outputs": [
    {
     "data": {},
     "metadata": {},
     "output_type": "display_data"
    },
    {
     "data": {
      "application/vnd.holoviews_exec.v0+json": "",
      "text/html": [
       "<div id='2227'>\n",
       "\n",
       "\n",
       "\n",
       "\n",
       "\n",
       "  <div class=\"bk-root\" id=\"9ce0821f-5f9b-4ecc-bb2b-6af7f8c5f799\" data-root-id=\"2227\"></div>\n",
       "</div>\n",
       "<script type=\"application/javascript\">(function(root) {\n",
       "  function embed_document(root) {\n",
       "  var docs_json = {\"208d995c-7464-46e0-b5e0-2a63c819d872\":{\"roots\":{\"references\":[{\"attributes\":{\"line_width\":{\"value\":2}},\"id\":\"2276\",\"type\":\"MultiLine\"},{\"attributes\":{\"callback\":null},\"id\":\"2254\",\"type\":\"TapTool\"},{\"attributes\":{\"end\":3.111269837220809,\"reset_end\":3.111269837220809,\"reset_start\":-0.28284271247461906,\"start\":-0.28284271247461906,\"tags\":[[[\"x\",\"x\",null]]]},\"id\":\"2229\",\"type\":\"Range1d\"},{\"attributes\":{\"align\":null,\"below\":[{\"id\":\"2241\"}],\"center\":[{\"id\":\"2244\"},{\"id\":\"2248\"}],\"left\":[{\"id\":\"2245\"}],\"margin\":null,\"min_border_bottom\":10,\"min_border_left\":10,\"min_border_right\":10,\"min_border_top\":10,\"outline_line_alpha\":0,\"plot_height\":400,\"plot_width\":400,\"renderers\":[{\"id\":\"2281\"},{\"id\":\"2299\"}],\"sizing_mode\":\"fixed\",\"title\":{\"id\":\"2233\"},\"toolbar\":{\"id\":\"2256\"},\"x_range\":{\"id\":\"2229\"},\"x_scale\":{\"id\":\"2237\"},\"y_range\":{\"id\":\"2230\"},\"y_scale\":{\"id\":\"2239\"}},\"id\":\"2232\",\"subtype\":\"Figure\",\"type\":\"Plot\"},{\"attributes\":{},\"id\":\"2253\",\"type\":\"ResetTool\"},{\"attributes\":{\"margin\":[5,5,5,5],\"name\":\"HSpacer04395\",\"sizing_mode\":\"stretch_width\"},\"id\":\"2409\",\"type\":\"Spacer\"},{\"attributes\":{\"text\":\"\",\"text_color\":{\"value\":\"black\"},\"text_font_size\":{\"value\":\"12pt\"}},\"id\":\"2233\",\"type\":\"Title\"},{\"attributes\":{\"callback\":null,\"renderers\":[{\"id\":\"2281\"}],\"tooltips\":[[\"index\",\"@{index_hover}\"],[\"xn\",\"@{xn}\"],[\"yn\",\"@{yn}\"]]},\"id\":\"2231\",\"type\":\"HoverTool\"},{\"attributes\":{},\"id\":\"2311\",\"type\":\"Selection\"},{\"attributes\":{\"data\":{\"index\":[\"1\",\"2\",\"3\",\"4\"],\"x\":{\"__ndarray__\":\"AAAAAAAAAADNO39mnqD2P807f2aeoPY/zTt/Zp6gBkA=\",\"dtype\":\"float64\",\"order\":\"little\",\"shape\":[4]},\"y\":{\"__ndarray__\":\"zTt/Zp6g9j/NO39mnqAGQAAAAAAAAAAAzTt/Zp6g9j8=\",\"dtype\":\"float64\",\"order\":\"little\",\"shape\":[4]}},\"selected\":{\"id\":\"2295\"},\"selection_policy\":{\"id\":\"2307\"}},\"id\":\"2294\",\"type\":\"ColumnDataSource\"},{\"attributes\":{},\"id\":\"2312\",\"type\":\"UnionRenderers\"},{\"attributes\":{},\"id\":\"2295\",\"type\":\"Selection\"},{\"attributes\":{\"text\":{\"field\":\"index\"},\"text_align\":\"center\",\"text_baseline\":\"middle\",\"text_color\":{\"value\":\"black\"},\"x\":{\"field\":\"x\"},\"y\":{\"field\":\"y\"}},\"id\":\"2297\",\"type\":\"Text\"},{\"attributes\":{\"axis_label\":\"y\",\"bounds\":\"auto\",\"formatter\":{\"id\":\"2266\"},\"major_label_orientation\":\"horizontal\",\"ticker\":{\"id\":\"2246\"},\"visible\":false},\"id\":\"2245\",\"type\":\"LinearAxis\"},{\"attributes\":{\"graph_layout\":{\"1\":[0.0,1.4142135623730951],\"2\":[1.4142135623730951,2.8284271247461903],\"3\":[1.4142135623730951,0.0],\"4\":[2.8284271247461903,1.4142135623730951]}},\"id\":\"2270\",\"type\":\"StaticLayoutProvider\"},{\"attributes\":{\"text\":{\"field\":\"index\"},\"text_align\":\"center\",\"text_alpha\":{\"value\":0.1},\"text_baseline\":\"middle\",\"text_color\":{\"value\":\"black\"},\"x\":{\"field\":\"x\"},\"y\":{\"field\":\"y\"}},\"id\":\"2298\",\"type\":\"Text\"},{\"attributes\":{},\"id\":\"2242\",\"type\":\"BasicTicker\"},{\"attributes\":{\"line_color\":{\"value\":\"limegreen\"},\"line_width\":{\"value\":2}},\"id\":\"2278\",\"type\":\"MultiLine\"},{\"attributes\":{},\"id\":\"2292\",\"type\":\"NodesAndLinkedEdges\"},{\"attributes\":{},\"id\":\"2290\",\"type\":\"NodesAndLinkedEdges\"},{\"attributes\":{},\"id\":\"2246\",\"type\":\"BasicTicker\"},{\"attributes\":{},\"id\":\"2250\",\"type\":\"PanTool\"},{\"attributes\":{\"data\":{\"end\":[2,3,3,4,1,4,2,1,3,2],\"start\":[1,1,2,2,2,3,3,3,4,4],\"xs\":[{\"__ndarray__\":\"AAAAAAAAAADNO39mnqD2PwAAAAAAAPh/kXdUIt8D9j/NO39mnqD2PyMbI5wyJvU/\",\"dtype\":\"float64\",\"order\":\"little\",\"shape\":[6]},{\"__ndarray__\":\"AAAAAAAAAADNO39mnqD2PwAAAAAAAPh/IxsjnDIm9T/NO39mnqD2P5F3VCLfA/Y/\",\"dtype\":\"float64\",\"order\":\"little\",\"shape\":[6]},{\"__ndarray__\":\"zTt/Zp6g9j/NO39mnqD2PwAAAAAAAPh/kXdUIt8D9j/NO39mnqD2PwkAqqpdPfc/\",\"dtype\":\"float64\",\"order\":\"little\",\"shape\":[6]},{\"__ndarray__\":\"zTt/Zp6g9j/NO39mnqAGQAAAAAAAAPh/eCtRgWjjBUDNO39mnqAGQK/ZacQ+UgZA\",\"dtype\":\"float64\",\"order\":\"little\",\"shape\":[6]},{\"__ndarray__\":\"zTt/Zp6g9j8AAAAAAAAAAAAAAAAAAPh/godYheiXoz8AAAAAAAAAAJ8KwqW8prc/\",\"dtype\":\"float64\",\"order\":\"little\",\"shape\":[6]},{\"__ndarray__\":\"zTt/Zp6g9j/NO39mnqAGQAAAAAAAAPh/r9lpxD5SBkDNO39mnqAGQHgrUYFo4wVA\",\"dtype\":\"float64\",\"order\":\"little\",\"shape\":[6]},{\"__ndarray__\":\"zTt/Zp6g9j/NO39mnqD2PwAAAAAAAPh/CQCqql099z/NO39mnqD2P5F3VCLfA/Y/\",\"dtype\":\"float64\",\"order\":\"little\",\"shape\":[6]},{\"__ndarray__\":\"zTt/Zp6g9j8AAAAAAAAAAAAAAAAAAPh/nwrCpbymtz8AAAAAAAAAAIKHWIXol6M/\",\"dtype\":\"float64\",\"order\":\"little\",\"shape\":[6]},{\"__ndarray__\":\"zTt/Zp6gBkDNO39mnqD2PwAAAAAAAPh/CQCqql099z/NO39mnqD2P3dc2zAKG/g/\",\"dtype\":\"float64\",\"order\":\"little\",\"shape\":[6]},{\"__ndarray__\":\"zTt/Zp6gBkDNO39mnqD2PwAAAAAAAPh/d1zbMAob+D/NO39mnqD2PwkAqqpdPfc/\",\"dtype\":\"float64\",\"order\":\"little\",\"shape\":[6]}],\"ys\":[{\"__ndarray__\":\"zTt/Zp6g9j/NO39mnqAGQAAAAAAAAPh/eCtRgWjjBUDNO39mnqAGQK/ZacQ+UgZA\",\"dtype\":\"float64\",\"order\":\"little\",\"shape\":[6]},{\"__ndarray__\":\"zTt/Zp6g9j8AAAAAAAAAAAAAAAAAAPh/g4dYheiXoz8AAAAAAAAAAJ8KwqW8prc/\",\"dtype\":\"float64\",\"order\":\"little\",\"shape\":[6]},{\"__ndarray__\":\"zTt/Zp6gBkAAAAAAAAAAAAAAAAAAAPh/nwrCpbymtz8AAAAAAAAAAJ8KwqW8prc/\",\"dtype\":\"float64\",\"order\":\"little\",\"shape\":[6]},{\"__ndarray__\":\"zTt/Zp6gBkDNO39mnqD2PwAAAAAAAPh/CQCqql099z/NO39mnqD2P3dc2zAKG/g/\",\"dtype\":\"float64\",\"order\":\"little\",\"shape\":[6]},{\"__ndarray__\":\"zTt/Zp6gBkDNO39mnqD2PwAAAAAAAPh/d1zbMAob+D/NO39mnqD2PwkAqqpdPfc/\",\"dtype\":\"float64\",\"order\":\"little\",\"shape\":[6]},{\"__ndarray__\":\"AAAAAAAAAADNO39mnqD2PwAAAAAAAPh/IxsjnDIm9T/NO39mnqD2P5F3VCLfA/Y/\",\"dtype\":\"float64\",\"order\":\"little\",\"shape\":[6]},{\"__ndarray__\":\"AAAAAAAAAADNO39mnqAGQAAAAAAAAPh/eCtRgWjjBUDNO39mnqAGQHgrUYFo4wVA\",\"dtype\":\"float64\",\"order\":\"little\",\"shape\":[6]},{\"__ndarray__\":\"AAAAAAAAAADNO39mnqD2PwAAAAAAAPh/kXdUIt8D9j/NO39mnqD2PyMbI5wyJvU/\",\"dtype\":\"float64\",\"order\":\"little\",\"shape\":[6]},{\"__ndarray__\":\"zTt/Zp6g9j8AAAAAAAAAAAAAAAAAAPh/nwrCpbymtz8AAAAAAAAAAISHWIXol6M/\",\"dtype\":\"float64\",\"order\":\"little\",\"shape\":[6]},{\"__ndarray__\":\"zTt/Zp6g9j/NO39mnqAGQAAAAAAAAPh/r9lpxD5SBkDNO39mnqAGQHgrUYFo4wVA\",\"dtype\":\"float64\",\"order\":\"little\",\"shape\":[6]}]},\"selected\":{\"id\":\"2309\"},\"selection_policy\":{\"id\":\"2310\"}},\"id\":\"2269\",\"type\":\"ColumnDataSource\"},{\"attributes\":{},\"id\":\"2266\",\"type\":\"BasicTickFormatter\"},{\"attributes\":{\"overlay\":{\"id\":\"2255\"}},\"id\":\"2252\",\"type\":\"BoxZoomTool\"},{\"attributes\":{},\"id\":\"2264\",\"type\":\"BasicTickFormatter\"},{\"attributes\":{\"source\":{\"id\":\"2269\"}},\"id\":\"2280\",\"type\":\"CDSView\"},{\"attributes\":{\"fill_color\":{\"value\":\"limegreen\"},\"size\":{\"units\":\"screen\",\"value\":15}},\"id\":\"2273\",\"type\":\"Circle\"},{\"attributes\":{},\"id\":\"2307\",\"type\":\"UnionRenderers\"},{\"attributes\":{\"fill_color\":{\"value\":\"red\"},\"size\":{\"units\":\"screen\",\"value\":15}},\"id\":\"2271\",\"type\":\"Circle\"},{\"attributes\":{\"active_drag\":\"auto\",\"active_inspect\":\"auto\",\"active_multi\":null,\"active_scroll\":\"auto\",\"active_tap\":\"auto\",\"tools\":[{\"id\":\"2231\"},{\"id\":\"2249\"},{\"id\":\"2250\"},{\"id\":\"2251\"},{\"id\":\"2252\"},{\"id\":\"2253\"},{\"id\":\"2254\"}]},\"id\":\"2256\",\"type\":\"Toolbar\"},{\"attributes\":{\"data_source\":{\"id\":\"2269\"},\"glyph\":{\"id\":\"2276\"},\"hover_glyph\":{\"id\":\"2278\"},\"muted_glyph\":null,\"nonselection_glyph\":{\"id\":\"2277\"},\"selection_glyph\":null,\"view\":{\"id\":\"2280\"}},\"id\":\"2279\",\"type\":\"GlyphRenderer\"},{\"attributes\":{\"children\":[{\"id\":\"2228\"},{\"id\":\"2232\"},{\"id\":\"2409\"}],\"margin\":[0,0,0,0],\"name\":\"Row04390\",\"tags\":[\"embedded\"]},\"id\":\"2227\",\"type\":\"Row\"},{\"attributes\":{\"axis\":{\"id\":\"2241\"},\"grid_line_color\":null,\"ticker\":null},\"id\":\"2244\",\"type\":\"Grid\"},{\"attributes\":{},\"id\":\"2251\",\"type\":\"WheelZoomTool\"},{\"attributes\":{\"margin\":[5,5,5,5],\"name\":\"HSpacer04394\",\"sizing_mode\":\"stretch_width\"},\"id\":\"2228\",\"type\":\"Spacer\"},{\"attributes\":{\"data\":{\"index\":{\"__ndarray__\":\"AQAAAAIAAAADAAAABAAAAA==\",\"dtype\":\"int32\",\"order\":\"little\",\"shape\":[4]},\"index_hover\":[\"1\",\"2\",\"3\",\"4\"],\"xn\":{\"__ndarray__\":\"AAAAAAAAAADNO39mnqD2P807f2aeoPY/zTt/Zp6gBkA=\",\"dtype\":\"float64\",\"order\":\"little\",\"shape\":[4]},\"yn\":{\"__ndarray__\":\"zTt/Zp6g9j/NO39mnqAGQAAAAAAAAAAAzTt/Zp6g9j8=\",\"dtype\":\"float64\",\"order\":\"little\",\"shape\":[4]}},\"selected\":{\"id\":\"2311\"},\"selection_policy\":{\"id\":\"2312\"}},\"id\":\"2268\",\"type\":\"ColumnDataSource\"},{\"attributes\":{\"fill_alpha\":{\"value\":0.2},\"fill_color\":{\"value\":\"#30a2da\"},\"line_alpha\":{\"value\":0.2},\"size\":{\"units\":\"screen\",\"value\":15}},\"id\":\"2272\",\"type\":\"Circle\"},{\"attributes\":{},\"id\":\"2239\",\"type\":\"LinearScale\"},{\"attributes\":{\"data_source\":{\"id\":\"2268\"},\"glyph\":{\"id\":\"2271\"},\"hover_glyph\":{\"id\":\"2273\"},\"muted_glyph\":null,\"nonselection_glyph\":{\"id\":\"2272\"},\"selection_glyph\":null,\"view\":{\"id\":\"2275\"}},\"id\":\"2274\",\"type\":\"GlyphRenderer\"},{\"attributes\":{\"source\":{\"id\":\"2294\"}},\"id\":\"2300\",\"type\":\"CDSView\"},{\"attributes\":{\"end\":3.111269837220809,\"reset_end\":3.111269837220809,\"reset_start\":-0.28284271247461906,\"start\":-0.28284271247461906,\"tags\":[[[\"y\",\"y\",null]]]},\"id\":\"2230\",\"type\":\"Range1d\"},{\"attributes\":{\"axis\":{\"id\":\"2245\"},\"dimension\":1,\"grid_line_color\":null,\"ticker\":null},\"id\":\"2248\",\"type\":\"Grid\"},{\"attributes\":{\"axis_label\":\"x\",\"bounds\":\"auto\",\"formatter\":{\"id\":\"2264\"},\"major_label_orientation\":\"horizontal\",\"ticker\":{\"id\":\"2242\"},\"visible\":false},\"id\":\"2241\",\"type\":\"LinearAxis\"},{\"attributes\":{\"line_alpha\":{\"value\":0.2},\"line_width\":{\"value\":2}},\"id\":\"2277\",\"type\":\"MultiLine\"},{\"attributes\":{\"bottom_units\":\"screen\",\"fill_alpha\":0.5,\"fill_color\":\"lightgrey\",\"left_units\":\"screen\",\"level\":\"overlay\",\"line_alpha\":1.0,\"line_color\":\"black\",\"line_dash\":[4,4],\"line_width\":2,\"right_units\":\"screen\",\"top_units\":\"screen\"},\"id\":\"2255\",\"type\":\"BoxAnnotation\"},{\"attributes\":{},\"id\":\"2249\",\"type\":\"SaveTool\"},{\"attributes\":{\"data_source\":{\"id\":\"2294\"},\"glyph\":{\"id\":\"2297\"},\"hover_glyph\":null,\"muted_glyph\":null,\"nonselection_glyph\":{\"id\":\"2298\"},\"selection_glyph\":null,\"view\":{\"id\":\"2300\"}},\"id\":\"2299\",\"type\":\"GlyphRenderer\"},{\"attributes\":{},\"id\":\"2309\",\"type\":\"Selection\"},{\"attributes\":{},\"id\":\"2237\",\"type\":\"LinearScale\"},{\"attributes\":{\"edge_renderer\":{\"id\":\"2279\"},\"inspection_policy\":{\"id\":\"2292\"},\"layout_provider\":{\"id\":\"2270\"},\"node_renderer\":{\"id\":\"2274\"},\"selection_policy\":{\"id\":\"2290\"}},\"id\":\"2281\",\"type\":\"GraphRenderer\"},{\"attributes\":{\"source\":{\"id\":\"2268\"}},\"id\":\"2275\",\"type\":\"CDSView\"},{\"attributes\":{},\"id\":\"2310\",\"type\":\"UnionRenderers\"}],\"root_ids\":[\"2227\"]},\"title\":\"Bokeh Application\",\"version\":\"2.2.1\"}};\n",
       "  var render_items = [{\"docid\":\"208d995c-7464-46e0-b5e0-2a63c819d872\",\"root_ids\":[\"2227\"],\"roots\":{\"2227\":\"9ce0821f-5f9b-4ecc-bb2b-6af7f8c5f799\"}}];\n",
       "  root.Bokeh.embed.embed_items_notebook(docs_json, render_items);\n",
       "  }\n",
       "if (root.Bokeh !== undefined) {\n",
       "    embed_document(root);\n",
       "  } else {\n",
       "    var attempts = 0;\n",
       "    var timer = setInterval(function(root) {\n",
       "      if (root.Bokeh !== undefined) {\n",
       "        clearInterval(timer);\n",
       "        embed_document(root);\n",
       "      } else if (document.readyState == \"complete\") {\n",
       "        attempts++;\n",
       "        if (attempts > 100) {\n",
       "          clearInterval(timer);\n",
       "          console.log(\"Bokeh: ERROR: Unable to run BokehJS code because BokehJS library is missing\");\n",
       "        }\n",
       "      }\n",
       "    }, 10, root)\n",
       "  }\n",
       "})(window);</script>"
      ],
      "text/plain": [
       ":Overlay\n",
       "   .Graph.I  :Graph   [start,end]   (capacity,length,maxspeed,travel_time)\n",
       "   .Labels.I :Labels   [x,y]   (index)"
      ]
     },
     "execution_count": 87,
     "metadata": {
      "application/vnd.holoviews_exec.v0+json": {
       "id": "2227"
      }
     },
     "output_type": "execute_result"
    }
   ],
   "source": [
    "g = create_cascetta_nw()\n",
    "for i in g.nodes:\n",
    "    g.nodes[i]['xn'] = g.nodes[i].pop('x')\n",
    "    g.nodes[i]['yn'] = g.nodes[i].pop('y')\n",
    "p_x = nx.get_node_attributes(g, 'xn')\n",
    "p_y = nx.get_node_attributes(g, 'yn')\n",
    "pos = {}\n",
    "for i in p_x.keys():\n",
    "    pos[i] = tuple(d[i] for d in [p_x,p_y])\n",
    "hvnx.draw(g,pos, with_labels=True)"
   ]
  },
  {
   "cell_type": "code",
   "execution_count": 102,
   "metadata": {},
   "outputs": [
    {
     "data": {
      "image/png": "[encoded data removed]",
      "text/plain": [
       "<Figure size 432x288 with 1 Axes>"
      ]
     },
     "metadata": {},
     "output_type": "display_data"
    }
   ],
   "source": []
  },
  {
   "cell_type": "code",
   "execution_count": 107,
   "metadata": {},
   "outputs": [
    {
     "data": {
      "text/plain": [
       "{'capacity': 2000}"
      ]
     },
     "execution_count": 107,
     "metadata": {},
     "output_type": "execute_result"
    }
   ],
   "source": [
    "g.edges[(0,1)]['capacity'] = 2000\n",
    "g.edges[(0,1)]"
   ]
  },
  {
   "cell_type": "code",
   "execution_count": 58,
   "metadata": {},
   "outputs": [
    {
     "data": {
      "text/plain": [
       "{1: 0, 2: 1.4142135623730951, 3: 1.4142135623730951, 4: 2.8284271247461903}"
      ]
     },
     "execution_count": 58,
     "metadata": {},
     "output_type": "execute_result"
    }
   ],
   "source": [
    "p_x"
   ]
  },
  {
   "cell_type": "code",
   "execution_count": 59,
   "metadata": {},
   "outputs": [
    {
     "data": {
      "text/plain": [
       "{1: 1.4142135623730951, 2: 2.8284271247461903, 3: 0, 4: 1.4142135623730951}"
      ]
     },
     "execution_count": 59,
     "metadata": {},
     "output_type": "execute_result"
    }
   ],
   "source": [
    "p_y"
   ]
  },
  {
   "cell_type": "code",
   "execution_count": null,
   "metadata": {},
   "outputs": [],
   "source": []
  }
 ],
 "metadata": {
  "kernelspec": {
   "display_name": "stapy",
   "language": "python",
   "name": "stapy"
  },
  "language_info": {
   "codemirror_mode": {
    "name": "ipython",
    "version": 3
   },
   "file_extension": ".py",
   "mimetype": "text/x-python",
   "name": "python",
   "nbconvert_exporter": "python",
   "pygments_lexer": "ipython3",
   "version": "3.8.5"
  }
 },
 "nbformat": 4,
 "nbformat_minor": 4
}
