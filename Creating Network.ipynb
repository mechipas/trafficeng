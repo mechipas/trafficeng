{
 "cells": [
  {
   "cell_type": "markdown",
   "metadata": {},
   "source": [
    "# Creating Network\n",
    "In this notebokt a simple network is created with all the needed attributes specified for each link (and node).\n",
    "At the end of this part it should be clear how to:\n",
    "- set up a simple network of nodes and links\n",
    "- assign attributes to links and nodes\n",
    "- rightly connect the centroids to the network\n",
    "- calculate shortest paths between centroids in the network\n",
    "\n",
    "## Software\n",
    "\n",
    "We will use python packages to build grpahs and calculate networks. It is important to keep in mind that having a clear and compact data structure makes it easier to integrate it further to come to a full four-step model, meaning that it is important to automate repetitive process as mucha s possible and create an object comprising all information."
   ]
  },
  {
   "cell_type": "code",
   "execution_count": 141,
   "metadata": {},
   "outputs": [],
   "source": [
    "# Import packages\n",
    "import numpy as np\n",
    "import networkx as nx\n",
    "import hvplot.networkx as hvnx\n",
    "from stapy.network_data import create_cascetta_nw, create_grid_nw\n",
    "from stapy.visualization import *\n",
    "import matplotlib.pyplot as plt\n",
    "import matplotlib.colors as mcolors\n",
    "from shapely.geometry import Polygon, box\n",
    "import pandas as pd\n",
    "import geopandas as gpd\n",
    "import geoplot\n",
    "from math import ceil"
   ]
  },
  {
   "cell_type": "code",
   "execution_count": 142,
   "metadata": {},
   "outputs": [
    {
     "data": {},
     "metadata": {},
     "output_type": "display_data"
    },
    {
     "data": {
      "application/vnd.holoviews_exec.v0+json": "",
      "text/html": [
       "<div id='1492'>\n",
       "\n",
       "\n",
       "\n",
       "\n",
       "\n",
       "  <div class=\"bk-root\" id=\"381c772b-f3f1-46d5-88d9-7e9aa77b6375\" data-root-id=\"1492\"></div>\n",
       "</div>\n",
       "<script type=\"application/javascript\">(function(root) {\n",
       "  function embed_document(root) {\n",
       "  var docs_json = {\"e793e071-acd9-4fa8-a34d-413bc3d9b692\":{\"roots\":{\"references\":[{\"attributes\":{},\"id\":\"1576\",\"type\":\"UnionRenderers\"},{\"attributes\":{\"active_drag\":\"auto\",\"active_inspect\":\"auto\",\"active_multi\":null,\"active_scroll\":\"auto\",\"active_tap\":\"auto\",\"tools\":[{\"id\":\"1496\"},{\"id\":\"1514\"},{\"id\":\"1515\"},{\"id\":\"1516\"},{\"id\":\"1517\"},{\"id\":\"1518\"},{\"id\":\"1519\"}]},\"id\":\"1521\",\"type\":\"Toolbar\"},{\"attributes\":{},\"id\":\"1532\",\"type\":\"BasicTickFormatter\"},{\"attributes\":{\"line_width\":{\"value\":2}},\"id\":\"1541\",\"type\":\"MultiLine\"},{\"attributes\":{\"margin\":[5,5,5,5],\"name\":\"HSpacer02931\",\"sizing_mode\":\"stretch_width\"},\"id\":\"1674\",\"type\":\"Spacer\"},{\"attributes\":{},\"id\":\"1557\",\"type\":\"NodesAndLinkedEdges\"},{\"attributes\":{\"fill_color\":{\"value\":\"limegreen\"},\"size\":{\"units\":\"screen\",\"value\":15}},\"id\":\"1538\",\"type\":\"Circle\"},{\"attributes\":{\"data\":{\"index\":{\"__ndarray__\":\"AQAAAAIAAAADAAAABAAAAA==\",\"dtype\":\"int32\",\"order\":\"little\",\"shape\":[4]},\"index_hover\":[\"1\",\"2\",\"3\",\"4\"],\"xn\":{\"__ndarray__\":\"AAAAAAAAAADNO39mnqD2P807f2aeoPY/zTt/Zp6gBkA=\",\"dtype\":\"float64\",\"order\":\"little\",\"shape\":[4]},\"yn\":{\"__ndarray__\":\"zTt/Zp6g9j/NO39mnqAGQAAAAAAAAAAAzTt/Zp6g9j8=\",\"dtype\":\"float64\",\"order\":\"little\",\"shape\":[4]}},\"selected\":{\"id\":\"1577\"},\"selection_policy\":{\"id\":\"1576\"}},\"id\":\"1533\",\"type\":\"ColumnDataSource\"},{\"attributes\":{\"end\":3.111269837220809,\"reset_end\":3.111269837220809,\"reset_start\":-0.28284271247461906,\"start\":-0.28284271247461906,\"tags\":[[[\"x\",\"x\",null]]]},\"id\":\"1494\",\"type\":\"Range1d\"},{\"attributes\":{\"data\":{\"index\":[\"1\",\"2\",\"3\",\"4\"],\"x\":{\"__ndarray__\":\"AAAAAAAAAADNO39mnqD2P807f2aeoPY/zTt/Zp6gBkA=\",\"dtype\":\"float64\",\"order\":\"little\",\"shape\":[4]},\"y\":{\"__ndarray__\":\"zTt/Zp6g9j/NO39mnqAGQAAAAAAAAAAAzTt/Zp6g9j8=\",\"dtype\":\"float64\",\"order\":\"little\",\"shape\":[4]}},\"selected\":{\"id\":\"1560\"},\"selection_policy\":{\"id\":\"1572\"}},\"id\":\"1559\",\"type\":\"ColumnDataSource\"},{\"attributes\":{\"data_source\":{\"id\":\"1533\"},\"glyph\":{\"id\":\"1536\"},\"hover_glyph\":{\"id\":\"1538\"},\"muted_glyph\":null,\"nonselection_glyph\":{\"id\":\"1537\"},\"selection_glyph\":null,\"view\":{\"id\":\"1540\"}},\"id\":\"1539\",\"type\":\"GlyphRenderer\"},{\"attributes\":{\"text\":{\"field\":\"index\"},\"text_align\":\"center\",\"text_baseline\":\"middle\",\"text_color\":{\"value\":\"black\"},\"x\":{\"field\":\"x\"},\"y\":{\"field\":\"y\"}},\"id\":\"1562\",\"type\":\"Text\"},{\"attributes\":{\"graph_layout\":{\"1\":[0.0,1.4142135623730951],\"2\":[1.4142135623730951,2.8284271247461903],\"3\":[1.4142135623730951,0.0],\"4\":[2.8284271247461903,1.4142135623730951]}},\"id\":\"1535\",\"type\":\"StaticLayoutProvider\"},{\"attributes\":{\"line_alpha\":{\"value\":0.2},\"line_width\":{\"value\":2}},\"id\":\"1542\",\"type\":\"MultiLine\"},{\"attributes\":{},\"id\":\"1575\",\"type\":\"Selection\"},{\"attributes\":{\"data\":{\"end\":[2,3,3,4,1,4,2,1,3,2],\"start\":[1,1,2,2,2,3,3,3,4,4],\"xs\":[{\"__ndarray__\":\"AAAAAAAAAADNO39mnqD2PwAAAAAAAPh/kXdUIt8D9j/NO39mnqD2PyMbI5wyJvU/\",\"dtype\":\"float64\",\"order\":\"little\",\"shape\":[6]},{\"__ndarray__\":\"AAAAAAAAAADNO39mnqD2PwAAAAAAAPh/IxsjnDIm9T/NO39mnqD2P5F3VCLfA/Y/\",\"dtype\":\"float64\",\"order\":\"little\",\"shape\":[6]},{\"__ndarray__\":\"zTt/Zp6g9j/NO39mnqD2PwAAAAAAAPh/kXdUIt8D9j/NO39mnqD2PwkAqqpdPfc/\",\"dtype\":\"float64\",\"order\":\"little\",\"shape\":[6]},{\"__ndarray__\":\"zTt/Zp6g9j/NO39mnqAGQAAAAAAAAPh/eCtRgWjjBUDNO39mnqAGQK/ZacQ+UgZA\",\"dtype\":\"float64\",\"order\":\"little\",\"shape\":[6]},{\"__ndarray__\":\"zTt/Zp6g9j8AAAAAAAAAAAAAAAAAAPh/godYheiXoz8AAAAAAAAAAJ8KwqW8prc/\",\"dtype\":\"float64\",\"order\":\"little\",\"shape\":[6]},{\"__ndarray__\":\"zTt/Zp6g9j/NO39mnqAGQAAAAAAAAPh/r9lpxD5SBkDNO39mnqAGQHgrUYFo4wVA\",\"dtype\":\"float64\",\"order\":\"little\",\"shape\":[6]},{\"__ndarray__\":\"zTt/Zp6g9j/NO39mnqD2PwAAAAAAAPh/CQCqql099z/NO39mnqD2P5F3VCLfA/Y/\",\"dtype\":\"float64\",\"order\":\"little\",\"shape\":[6]},{\"__ndarray__\":\"zTt/Zp6g9j8AAAAAAAAAAAAAAAAAAPh/nwrCpbymtz8AAAAAAAAAAIKHWIXol6M/\",\"dtype\":\"float64\",\"order\":\"little\",\"shape\":[6]},{\"__ndarray__\":\"zTt/Zp6gBkDNO39mnqD2PwAAAAAAAPh/CQCqql099z/NO39mnqD2P3dc2zAKG/g/\",\"dtype\":\"float64\",\"order\":\"little\",\"shape\":[6]},{\"__ndarray__\":\"zTt/Zp6gBkDNO39mnqD2PwAAAAAAAPh/d1zbMAob+D/NO39mnqD2PwkAqqpdPfc/\",\"dtype\":\"float64\",\"order\":\"little\",\"shape\":[6]}],\"ys\":[{\"__ndarray__\":\"zTt/Zp6g9j/NO39mnqAGQAAAAAAAAPh/eCtRgWjjBUDNO39mnqAGQK/ZacQ+UgZA\",\"dtype\":\"float64\",\"order\":\"little\",\"shape\":[6]},{\"__ndarray__\":\"zTt/Zp6g9j8AAAAAAAAAAAAAAAAAAPh/g4dYheiXoz8AAAAAAAAAAJ8KwqW8prc/\",\"dtype\":\"float64\",\"order\":\"little\",\"shape\":[6]},{\"__ndarray__\":\"zTt/Zp6gBkAAAAAAAAAAAAAAAAAAAPh/nwrCpbymtz8AAAAAAAAAAJ8KwqW8prc/\",\"dtype\":\"float64\",\"order\":\"little\",\"shape\":[6]},{\"__ndarray__\":\"zTt/Zp6gBkDNO39mnqD2PwAAAAAAAPh/CQCqql099z/NO39mnqD2P3dc2zAKG/g/\",\"dtype\":\"float64\",\"order\":\"little\",\"shape\":[6]},{\"__ndarray__\":\"zTt/Zp6gBkDNO39mnqD2PwAAAAAAAPh/d1zbMAob+D/NO39mnqD2PwkAqqpdPfc/\",\"dtype\":\"float64\",\"order\":\"little\",\"shape\":[6]},{\"__ndarray__\":\"AAAAAAAAAADNO39mnqD2PwAAAAAAAPh/IxsjnDIm9T/NO39mnqD2P5F3VCLfA/Y/\",\"dtype\":\"float64\",\"order\":\"little\",\"shape\":[6]},{\"__ndarray__\":\"AAAAAAAAAADNO39mnqAGQAAAAAAAAPh/eCtRgWjjBUDNO39mnqAGQHgrUYFo4wVA\",\"dtype\":\"float64\",\"order\":\"little\",\"shape\":[6]},{\"__ndarray__\":\"AAAAAAAAAADNO39mnqD2PwAAAAAAAPh/kXdUIt8D9j/NO39mnqD2PyMbI5wyJvU/\",\"dtype\":\"float64\",\"order\":\"little\",\"shape\":[6]},{\"__ndarray__\":\"zTt/Zp6g9j8AAAAAAAAAAAAAAAAAAPh/nwrCpbymtz8AAAAAAAAAAISHWIXol6M/\",\"dtype\":\"float64\",\"order\":\"little\",\"shape\":[6]},{\"__ndarray__\":\"zTt/Zp6g9j/NO39mnqAGQAAAAAAAAPh/r9lpxD5SBkDNO39mnqAGQHgrUYFo4wVA\",\"dtype\":\"float64\",\"order\":\"little\",\"shape\":[6]}]},\"selected\":{\"id\":\"1575\"},\"selection_policy\":{\"id\":\"1574\"}},\"id\":\"1534\",\"type\":\"ColumnDataSource\"},{\"attributes\":{\"source\":{\"id\":\"1534\"}},\"id\":\"1545\",\"type\":\"CDSView\"},{\"attributes\":{},\"id\":\"1518\",\"type\":\"ResetTool\"},{\"attributes\":{\"edge_renderer\":{\"id\":\"1544\"},\"inspection_policy\":{\"id\":\"1557\"},\"layout_provider\":{\"id\":\"1535\"},\"node_renderer\":{\"id\":\"1539\"},\"selection_policy\":{\"id\":\"1555\"}},\"id\":\"1546\",\"type\":\"GraphRenderer\"},{\"attributes\":{\"callback\":null},\"id\":\"1519\",\"type\":\"TapTool\"},{\"attributes\":{\"text\":{\"field\":\"index\"},\"text_align\":\"center\",\"text_alpha\":{\"value\":0.1},\"text_baseline\":\"middle\",\"text_color\":{\"value\":\"black\"},\"x\":{\"field\":\"x\"},\"y\":{\"field\":\"y\"}},\"id\":\"1563\",\"type\":\"Text\"},{\"attributes\":{},\"id\":\"1574\",\"type\":\"UnionRenderers\"},{\"attributes\":{\"data_source\":{\"id\":\"1534\"},\"glyph\":{\"id\":\"1541\"},\"hover_glyph\":{\"id\":\"1543\"},\"muted_glyph\":null,\"nonselection_glyph\":{\"id\":\"1542\"},\"selection_glyph\":null,\"view\":{\"id\":\"1545\"}},\"id\":\"1544\",\"type\":\"GlyphRenderer\"},{\"attributes\":{},\"id\":\"1502\",\"type\":\"LinearScale\"},{\"attributes\":{},\"id\":\"1511\",\"type\":\"BasicTicker\"},{\"attributes\":{\"callback\":null,\"renderers\":[{\"id\":\"1546\"}],\"tooltips\":[[\"index\",\"@{index_hover}\"],[\"xn\",\"@{xn}\"],[\"yn\",\"@{yn}\"]]},\"id\":\"1496\",\"type\":\"HoverTool\"},{\"attributes\":{},\"id\":\"1504\",\"type\":\"LinearScale\"},{\"attributes\":{},\"id\":\"1577\",\"type\":\"Selection\"},{\"attributes\":{\"line_color\":{\"value\":\"limegreen\"},\"line_width\":{\"value\":2}},\"id\":\"1543\",\"type\":\"MultiLine\"},{\"attributes\":{\"data_source\":{\"id\":\"1559\"},\"glyph\":{\"id\":\"1562\"},\"hover_glyph\":null,\"muted_glyph\":null,\"nonselection_glyph\":{\"id\":\"1563\"},\"selection_glyph\":null,\"view\":{\"id\":\"1565\"}},\"id\":\"1564\",\"type\":\"GlyphRenderer\"},{\"attributes\":{\"align\":null,\"below\":[{\"id\":\"1506\"}],\"center\":[{\"id\":\"1509\"},{\"id\":\"1513\"}],\"left\":[{\"id\":\"1510\"}],\"margin\":null,\"min_border_bottom\":10,\"min_border_left\":10,\"min_border_right\":10,\"min_border_top\":10,\"outline_line_alpha\":0,\"plot_height\":400,\"plot_width\":400,\"renderers\":[{\"id\":\"1546\"},{\"id\":\"1564\"}],\"sizing_mode\":\"fixed\",\"title\":{\"id\":\"1498\"},\"toolbar\":{\"id\":\"1521\"},\"x_range\":{\"id\":\"1494\"},\"x_scale\":{\"id\":\"1502\"},\"y_range\":{\"id\":\"1495\"},\"y_scale\":{\"id\":\"1504\"}},\"id\":\"1497\",\"subtype\":\"Figure\",\"type\":\"Plot\"},{\"attributes\":{},\"id\":\"1530\",\"type\":\"BasicTickFormatter\"},{\"attributes\":{\"source\":{\"id\":\"1559\"}},\"id\":\"1565\",\"type\":\"CDSView\"},{\"attributes\":{\"axis\":{\"id\":\"1510\"},\"dimension\":1,\"grid_line_color\":null,\"ticker\":null},\"id\":\"1513\",\"type\":\"Grid\"},{\"attributes\":{\"axis_label\":\"x\",\"bounds\":\"auto\",\"formatter\":{\"id\":\"1530\"},\"major_label_orientation\":\"horizontal\",\"ticker\":{\"id\":\"1507\"},\"visible\":false},\"id\":\"1506\",\"type\":\"LinearAxis\"},{\"attributes\":{\"axis\":{\"id\":\"1506\"},\"grid_line_color\":null,\"ticker\":null},\"id\":\"1509\",\"type\":\"Grid\"},{\"attributes\":{\"fill_color\":{\"value\":\"red\"},\"size\":{\"units\":\"screen\",\"value\":15}},\"id\":\"1536\",\"type\":\"Circle\"},{\"attributes\":{},\"id\":\"1560\",\"type\":\"Selection\"},{\"attributes\":{\"bottom_units\":\"screen\",\"fill_alpha\":0.5,\"fill_color\":\"lightgrey\",\"left_units\":\"screen\",\"level\":\"overlay\",\"line_alpha\":1.0,\"line_color\":\"black\",\"line_dash\":[4,4],\"line_width\":2,\"right_units\":\"screen\",\"top_units\":\"screen\"},\"id\":\"1520\",\"type\":\"BoxAnnotation\"},{\"attributes\":{},\"id\":\"1514\",\"type\":\"SaveTool\"},{\"attributes\":{\"text\":\"\",\"text_color\":{\"value\":\"black\"},\"text_font_size\":{\"value\":\"12pt\"}},\"id\":\"1498\",\"type\":\"Title\"},{\"attributes\":{},\"id\":\"1515\",\"type\":\"PanTool\"},{\"attributes\":{\"source\":{\"id\":\"1533\"}},\"id\":\"1540\",\"type\":\"CDSView\"},{\"attributes\":{\"fill_alpha\":{\"value\":0.2},\"fill_color\":{\"value\":\"#30a2da\"},\"line_alpha\":{\"value\":0.2},\"size\":{\"units\":\"screen\",\"value\":15}},\"id\":\"1537\",\"type\":\"Circle\"},{\"attributes\":{\"children\":[{\"id\":\"1493\"},{\"id\":\"1497\"},{\"id\":\"1674\"}],\"margin\":[0,0,0,0],\"name\":\"Row02926\",\"tags\":[\"embedded\"]},\"id\":\"1492\",\"type\":\"Row\"},{\"attributes\":{},\"id\":\"1507\",\"type\":\"BasicTicker\"},{\"attributes\":{\"margin\":[5,5,5,5],\"name\":\"HSpacer02930\",\"sizing_mode\":\"stretch_width\"},\"id\":\"1493\",\"type\":\"Spacer\"},{\"attributes\":{},\"id\":\"1555\",\"type\":\"NodesAndLinkedEdges\"},{\"attributes\":{},\"id\":\"1572\",\"type\":\"UnionRenderers\"},{\"attributes\":{\"overlay\":{\"id\":\"1520\"}},\"id\":\"1517\",\"type\":\"BoxZoomTool\"},{\"attributes\":{\"end\":3.111269837220809,\"reset_end\":3.111269837220809,\"reset_start\":-0.28284271247461906,\"start\":-0.28284271247461906,\"tags\":[[[\"y\",\"y\",null]]]},\"id\":\"1495\",\"type\":\"Range1d\"},{\"attributes\":{},\"id\":\"1516\",\"type\":\"WheelZoomTool\"},{\"attributes\":{\"axis_label\":\"y\",\"bounds\":\"auto\",\"formatter\":{\"id\":\"1532\"},\"major_label_orientation\":\"horizontal\",\"ticker\":{\"id\":\"1511\"},\"visible\":false},\"id\":\"1510\",\"type\":\"LinearAxis\"}],\"root_ids\":[\"1492\"]},\"title\":\"Bokeh Application\",\"version\":\"2.2.1\"}};\n",
       "  var render_items = [{\"docid\":\"e793e071-acd9-4fa8-a34d-413bc3d9b692\",\"root_ids\":[\"1492\"],\"roots\":{\"1492\":\"381c772b-f3f1-46d5-88d9-7e9aa77b6375\"}}];\n",
       "  root.Bokeh.embed.embed_items_notebook(docs_json, render_items);\n",
       "  }\n",
       "if (root.Bokeh !== undefined) {\n",
       "    embed_document(root);\n",
       "  } else {\n",
       "    var attempts = 0;\n",
       "    var timer = setInterval(function(root) {\n",
       "      if (root.Bokeh !== undefined) {\n",
       "        clearInterval(timer);\n",
       "        embed_document(root);\n",
       "      } else if (document.readyState == \"complete\") {\n",
       "        attempts++;\n",
       "        if (attempts > 100) {\n",
       "          clearInterval(timer);\n",
       "          console.log(\"Bokeh: ERROR: Unable to run BokehJS code because BokehJS library is missing\");\n",
       "        }\n",
       "      }\n",
       "    }, 10, root)\n",
       "  }\n",
       "})(window);</script>"
      ],
      "text/plain": [
       ":Overlay\n",
       "   .Graph.I  :Graph   [start,end]   (capacity,length,maxspeed,travel_time)\n",
       "   .Labels.I :Labels   [x,y]   (index)"
      ]
     },
     "execution_count": 142,
     "metadata": {
      "application/vnd.holoviews_exec.v0+json": {
       "id": "1492"
      }
     },
     "output_type": "execute_result"
    }
   ],
   "source": [
    "g = create_cascetta_nw()\n",
    "for i in g.nodes:\n",
    "    g.nodes[i]['xn'] = g.nodes[i].pop('x')\n",
    "    g.nodes[i]['yn'] = g.nodes[i].pop('y')\n",
    "p_x = nx.get_node_attributes(g, 'xn')\n",
    "p_y = nx.get_node_attributes(g, 'yn')\n",
    "pos = {}\n",
    "for i in p_x.keys():\n",
    "    pos[i] = tuple(d[i] for d in [p_x,p_y])\n",
    "hvnx.draw(g,pos, with_labels=True)"
   ]
  },
  {
   "cell_type": "code",
   "execution_count": 143,
   "metadata": {},
   "outputs": [
    {
     "data": {
      "image/png": "[encoded data removed]",
      "text/plain": [
       "<Figure size 432x288 with 1 Axes>"
      ]
     },
     "metadata": {},
     "output_type": "display_data"
    }
   ],
   "source": [
    "gr = create_grid_nw(4, 3)\n",
    "nx.draw_networkx(gr, nx.get_node_attributes(gr, 'crd'))"
   ]
  },
  {
   "cell_type": "code",
   "execution_count": 144,
   "metadata": {},
   "outputs": [],
   "source": [
    "def create_mesh(row, col, height=1, width=1):\n",
    "    # Box (min x, min y, max x, max y)\n",
    "    mesh = []\n",
    "    ymin = -1\n",
    "    xmin = -1\n",
    "    # get rows\n",
    "    rows = ceil((row - ymin) / height)\n",
    "    # get columns\n",
    "    cols = ceil((col - xmin) / width)\n",
    "    # Set initial value\n",
    "    c = 0\n",
    "    id = 0\n",
    "    xl = xmin\n",
    "    xr = xmin + width\n",
    "    list_id = []\n",
    "    while c < cols:\n",
    "        yb = ymin\n",
    "        yt = ymin + height\n",
    "        r = 0\n",
    "        while r < rows:\n",
    "            poly = box(xl, yb, xr, yt)\n",
    "            mesh.append(poly)\n",
    "            list_id.append(f'c{id}')\n",
    "            id += 1\n",
    "            r += 1\n",
    "            yb += height\n",
    "            yt += height\n",
    "        c += 1\n",
    "        xl += width\n",
    "        xr += width\n",
    "    list_centroid = [p.centroid.coords[0] for p in mesh]\n",
    "    df = pd.DataFrame([list_id, list_centroid]).transpose()\n",
    "    df.columns = ['id', 'centroid']\n",
    "    gdf = gpd.GeoDataFrame(df, geometry=mesh)\n",
    "    return gdf\n",
    "\n",
    "grid = create_mesh(4, 3, height=2, width=2)"
   ]
  },
  {
   "cell_type": "code",
   "execution_count": 145,
   "metadata": {},
   "outputs": [],
   "source": [
    "import os\n",
    "import ogr\n",
    "from math import ceil\n",
    "\n",
    "def construct_2d_space(outputGridfn, row: int, col: int, gridHeight=1, gridWidth=1):\n",
    "    \"\"\"\n",
    "    Create a grid of a specified bounding box in cartesian space\n",
    "    Constructing rectangular grids, more sizes can be included later\n",
    "    Based on code taken from https://pcjericks.github.io/py-gdalogr-cookbook\n",
    "\n",
    "    Parameters\n",
    "    ----------\n",
    "    outputGridfn:\n",
    "    row: rows specified in network grid\n",
    "    col: columns specified in network grid\n",
    "    gridHeight: height of every grid cell, default = 1\n",
    "    gridWidth: width of every grid cell, default = 1\n",
    "\n",
    "    \"\"\"\n",
    "    # centroids: int, row: int, col: int)\n",
    "    min_x, max_x, min_y, max_y = -1, col, -1, row  # boundaries of bounding box limiting 2D space\n",
    "    # convert sys.argv to float\n",
    "    xmin = float(min_x)\n",
    "    xmax = float(max_x)\n",
    "    ymin = float(min_y)\n",
    "    ymax = float(max_y)\n",
    "    gridWidth = float(gridWidth)\n",
    "    gridHeight = float(gridHeight)\n",
    "\n",
    "    # get rows\n",
    "    rows = ceil((ymax - ymin) / gridHeight)\n",
    "    # get columns\n",
    "    cols = ceil((xmax - xmin) / gridWidth)\n",
    "\n",
    "    # start grid cell envelope\n",
    "    ringXleftOrigin = xmin\n",
    "    ringXrightOrigin = xmin + gridWidth\n",
    "    ringYtopOrigin = ymax\n",
    "    ringYbottomOrigin = ymax - gridHeight\n",
    "\n",
    "    # create output file\n",
    "    outDriver = ogr.GetDriverByName('ESRI Shapefile')\n",
    "    if os.path.exists(outputGridfn):\n",
    "        os.remove(outputGridfn)\n",
    "    outDataSource = outDriver.CreateDataSource(outputGridfn)\n",
    "    outLayer = outDataSource.CreateLayer(outputGridfn, geom_type=ogr.wkbPolygon)\n",
    "    featureDefn = outLayer.GetLayerDefn()\n",
    "\n",
    "    # create grid cells\n",
    "    countcols = 0\n",
    "    while countcols < cols:\n",
    "        countcols += 1\n",
    "\n",
    "        # reset envelope for rows\n",
    "        ringYtop = ringYtopOrigin\n",
    "        ringYbottom = ringYbottomOrigin\n",
    "        countrows = 0\n",
    "\n",
    "        while countrows < rows:\n",
    "            countrows += 1\n",
    "            ring = ogr.Geometry(ogr.wkbLinearRing)\n",
    "            ring.AddPoint(ringXleftOrigin, ringYtop)\n",
    "            ring.AddPoint(ringXrightOrigin, ringYtop)\n",
    "            ring.AddPoint(ringXrightOrigin, ringYbottom)\n",
    "            ring.AddPoint(ringXleftOrigin, ringYbottom)\n",
    "            ring.AddPoint(ringXleftOrigin, ringYtop)\n",
    "            poly = ogr.Geometry(ogr.wkbPolygon)\n",
    "            poly.AddGeometry(ring)\n",
    "\n",
    "            # add new geom to layer\n",
    "            outFeature = ogr.Feature(featureDefn)\n",
    "            outFeature.SetGeometry(poly)\n",
    "            outLayer.CreateFeature(outFeature)\n",
    "            outFeature = None\n",
    "\n",
    "            # new envelope for next poly\n",
    "            ringYtop = ringYtop - gridHeight\n",
    "            ringYbottom = ringYbottom - gridHeight\n",
    "\n",
    "        # new envelope for next poly\n",
    "        ringXleftOrigin = ringXleftOrigin + gridWidth\n",
    "        ringXrightOrigin = ringXrightOrigin + gridWidth\n",
    "\n",
    "    # Save and close DataSources\n",
    "    outDataSource = None\n",
    "    return outLayer\n",
    "\n"
   ]
  },
  {
   "cell_type": "code",
   "execution_count": 205,
   "metadata": {},
   "outputs": [
    {
     "data": {
      "text/plain": [
       "(array([0., 0., 0., 0., 0., 0., 0., 0., 0., 0., 0., 0., 0., 0., 0., 0., 0.,\n",
       "        0.]),\n",
       " array([ 0,  1,  2,  3,  4,  5,  6,  7, 15,  9, 10, 11,  0,  2, 14, 15, 10,\n",
       "        17]))"
      ]
     },
     "execution_count": 205,
     "metadata": {},
     "output_type": "execute_result"
    }
   ],
   "source": [
    "from scipy.spatial import cKDTree\n",
    "centr_list = [(i[0], {'crd': i[1], 'centroid': True}) for i in grid.values]\n",
    "gr.add_nodes_from(centr_list)\n",
    "a = np.array(gr.nodes.data('crd'), dtype=object)\n",
    "tree = cKDTree(np.array(a[:,1].tolist()))\n",
    "#dist = np.linalg.norm(np.asarray(gr.nodes.data('crd')[0])-np.asarray(gr.nodes.data('crd')[1]))\n",
    "tree.query(np.array(a[:,1].tolist()), 1)"
   ]
  },
  {
   "cell_type": "code",
   "execution_count": 201,
   "metadata": {},
   "outputs": [
    {
     "data": {
      "text/plain": [
       "<AxesSubplot:>"
      ]
     },
     "execution_count": 201,
     "metadata": {},
     "output_type": "execute_result"
    },
    {
     "data": {
      "image/png": "[encoded data removed]",
      "text/plain": [
       "<Figure size 432x576 with 1 Axes>"
      ]
     },
     "metadata": {},
     "output_type": "display_data"
    }
   ],
   "source": [
    "fig, ax = plt.subplots(figsize=(6,8))\n",
    "nx.draw_networkx(gr, nx.get_node_attributes(gr, 'crd'), ax=ax)\n",
    "geoplot.polyplot(grid, ax=ax)"
   ]
  },
  {
   "cell_type": "code",
   "execution_count": 159,
   "metadata": {},
   "outputs": [
    {
     "data": {
      "text/plain": [
       "array([[0, {'crd': (0, 0)}],\n",
       "       [1, {'crd': (0, 1)}],\n",
       "       [2, {'crd': (0, 2)}],\n",
       "       [3, {'crd': (0, 3)}],\n",
       "       [4, {'crd': (1, 0)}],\n",
       "       [5, {'crd': (1, 1)}],\n",
       "       [6, {'crd': (1, 2)}],\n",
       "       [7, {'crd': (1, 3)}],\n",
       "       [8, {'crd': (2, 0)}],\n",
       "       [9, {'crd': (2, 1)}],\n",
       "       [10, {'crd': (2, 2)}],\n",
       "       [11, {'crd': (2, 3)}],\n",
       "       ['c0', {'crd': (-0.0, -0.0), 'centroid': True}],\n",
       "       ['c1', {'crd': (-0.0, 2.0), 'centroid': True}],\n",
       "       ['c2', {'crd': (-0.0, 4.0), 'centroid': True}],\n",
       "       ['c3', {'crd': (2.0, -0.0), 'centroid': True}],\n",
       "       ['c4', {'crd': (2.0, 2.0), 'centroid': True}],\n",
       "       ['c5', {'crd': (2.0, 4.0), 'centroid': True}]], dtype=object)"
      ]
     },
     "execution_count": 159,
     "metadata": {},
     "output_type": "execute_result"
    }
   ],
   "source": [
    "np.asarray(gr.nodes.data())"
   ]
  },
  {
   "cell_type": "code",
   "execution_count": 189,
   "metadata": {},
   "outputs": [
    {
     "data": {
      "text/plain": [
       "array([[ 0.,  0.],\n",
       "       [ 0.,  1.],\n",
       "       [ 0.,  2.],\n",
       "       [ 0.,  3.],\n",
       "       [ 1.,  0.],\n",
       "       [ 1.,  1.],\n",
       "       [ 1.,  2.],\n",
       "       [ 1.,  3.],\n",
       "       [ 2.,  0.],\n",
       "       [ 2.,  1.],\n",
       "       [ 2.,  2.],\n",
       "       [ 2.,  3.],\n",
       "       [-0., -0.],\n",
       "       [-0.,  2.],\n",
       "       [-0.,  4.],\n",
       "       [ 2., -0.],\n",
       "       [ 2.,  2.],\n",
       "       [ 2.,  4.]])"
      ]
     },
     "execution_count": 189,
     "metadata": {},
     "output_type": "execute_result"
    }
   ],
   "source": [
    "np.array(a[:,1].tolist())"
   ]
  },
  {
   "cell_type": "code",
   "execution_count": 174,
   "metadata": {},
   "outputs": [
    {
     "data": {
      "text/plain": [
       "array([0, 1, 2, 3, 4, 5, 6, 7, 8, 9, 10, 11, 'c0', 'c1', 'c2', 'c3', 'c4',\n",
       "       'c5'], dtype=object)"
      ]
     },
     "execution_count": 174,
     "metadata": {},
     "output_type": "execute_result"
    }
   ],
   "source": [
    "np.array(gr.nodes.data('crd'),dtype=object)[:,0]"
   ]
  },
  {
   "cell_type": "code",
   "execution_count": 134,
   "metadata": {},
   "outputs": [],
   "source": [
    "df = pd.DataFrame(gr.nodes.data())"
   ]
  },
  {
   "cell_type": "code",
   "execution_count": 167,
   "metadata": {},
   "outputs": [
    {
     "ename": "AttributeError",
     "evalue": "'NodeDataView' object has no attribute 'keys'",
     "output_type": "error",
     "traceback": [
      "\u001b[0;31m---------------------------------------------------------------------------\u001b[0m",
      "\u001b[0;31mAttributeError\u001b[0m                            Traceback (most recent call last)",
      "\u001b[0;32m<ipython-input-167-a894d8eee901>\u001b[0m in \u001b[0;36m<module>\u001b[0;34m\u001b[0m\n\u001b[0;32m----> 1\u001b[0;31m \u001b[0mgr\u001b[0m\u001b[0;34m.\u001b[0m\u001b[0mnodes\u001b[0m\u001b[0;34m.\u001b[0m\u001b[0mdata\u001b[0m\u001b[0;34m(\u001b[0m\u001b[0;34m'crd'\u001b[0m\u001b[0;34m)\u001b[0m\u001b[0;34m.\u001b[0m\u001b[0mkeys\u001b[0m\u001b[0;34m(\u001b[0m\u001b[0;34m)\u001b[0m\u001b[0;34m\u001b[0m\u001b[0;34m\u001b[0m\u001b[0m\n\u001b[0m",
      "\u001b[0;31mAttributeError\u001b[0m: 'NodeDataView' object has no attribute 'keys'"
     ]
    }
   ],
   "source": []
  },
  {
   "cell_type": "code",
   "execution_count": 153,
   "metadata": {},
   "outputs": [],
   "source": [
    "centr_list = [(i[0], {'crd': i[1], 'centroid': True}) for i in grid.values]"
   ]
  },
  {
   "cell_type": "code",
   "execution_count": 154,
   "metadata": {},
   "outputs": [
    {
     "data": {
      "text/plain": [
       "[('c0', {'crd': (-0.0, -0.0), 'centroid': True}),\n",
       " ('c1', {'crd': (-0.0, 2.0), 'centroid': True}),\n",
       " ('c2', {'crd': (-0.0, 4.0), 'centroid': True}),\n",
       " ('c3', {'crd': (2.0, -0.0), 'centroid': True}),\n",
       " ('c4', {'crd': (2.0, 2.0), 'centroid': True}),\n",
       " ('c5', {'crd': (2.0, 4.0), 'centroid': True})]"
      ]
     },
     "execution_count": 154,
     "metadata": {},
     "output_type": "execute_result"
    }
   ],
   "source": [
    "centr_list"
   ]
  },
  {
   "cell_type": "code",
   "execution_count": null,
   "metadata": {},
   "outputs": [],
   "source": []
  }
 ],
 "metadata": {
  "kernelspec": {
   "display_name": "stapy",
   "language": "python",
   "name": "stapy"
  },
  "language_info": {
   "codemirror_mode": {
    "name": "ipython",
    "version": 3
   },
   "file_extension": ".py",
   "mimetype": "text/x-python",
   "name": "python",
   "nbconvert_exporter": "python",
   "pygments_lexer": "ipython3",
   "version": "3.8.5"
  }
 },
 "nbformat": 4,
 "nbformat_minor": 4
}
