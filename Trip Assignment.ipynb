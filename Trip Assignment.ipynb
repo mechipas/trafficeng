{
 "cells": [
  {
   "cell_type": "code",
   "execution_count": 1,
   "metadata": {},
   "outputs": [],
   "source": [
    "#import osmnx as ox\n",
    "#import networkx as nx\n",
    "#import pandas as pd\n",
    "#import geopandas as gpd\n",
    "import stapy\n",
    "import hvplot.networkx as hvnx"
   ]
  },
  {
   "cell_type": "code",
   "execution_count": 1,
   "metadata": {},
   "outputs": [],
   "source": [
    "# Create a simple network with directed edges that is fully connected\n",
    "# Example from cascetta\n",
    "# Will we use this simple network or rather a larger network as described in the omnitrans tutorial?\n",
    "g = create_cascetta_nw()\n",
    "for i in g.nodes:\n",
    "    g.nodes[i]['xn'] = g.nodes[i].pop('x')\n",
    "    g.nodes[i]['yn'] = g.nodes[i].pop('y')\n",
    "p_x = nx.get_node_attributes(g, 'xn')\n",
    "p_y = nx.get_node_attributes(g, 'yn')\n",
    "pos = {}\n",
    "for i in p_x.keys():\n",
    "    pos[i] = tuple(d[i] for d in [p_x,p_y])\n",
    "hvnx.draw(g,pos, with_labels=True)"
   ]
  }
 ],
 "metadata": {
  "kernelspec": {
   "display_name": "stapy",
   "language": "python",
   "name": "stapy"
  },
  "language_info": {
   "codemirror_mode": {
    "name": "ipython",
    "version": 3
   },
   "file_extension": ".py",
   "mimetype": "text/x-python",
   "name": "python",
   "nbconvert_exporter": "python",
   "pygments_lexer": "ipython3",
   "version": "3.8.5"
  }
 },
 "nbformat": 4,
 "nbformat_minor": 4
}
